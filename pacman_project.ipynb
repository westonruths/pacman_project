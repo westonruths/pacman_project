{
 "cells": [
  {
   "cell_type": "code",
   "execution_count": 1,
   "metadata": {},
   "outputs": [
    {
     "name": "stdout",
     "output_type": "stream",
     "text": [
      "Initialise DQN Agent\n",
      "#    1 | steps:    95 | steps_t:     0 | t: 0.090761 | r:  -385.000000 | e:   1.000000 | Q:        nan | won: False \n",
      "Pacman died! Score: -410\n",
      "#    2 | steps:   146 | steps_t:     0 | t: 8.922178 | r:  -396.000000 | e:   1.000000 | Q:        nan | won: False \n",
      "Pacman died! Score: -460\n",
      "#    3 | steps:   167 | steps_t:     0 | t: 13.539764 | r:  -454.000000 | e:   1.000000 | Q:        nan | won: False \n",
      "('Average Score:', -435.0)\n",
      "('Scores:       ', '-410.0, -460.0')\n",
      "Win Rate:      0/2 (0.00)\n",
      "('Record:       ', 'Loss, Loss')\n"
     ]
    }
   ],
   "source": [
    "%run pacman.py -p PacmanDQN -n 3 -x 1 -l smallClassic -g RandomGhost -e RandomGhost --frameTime 0.1"
   ]
  },
  {
   "cell_type": "code",
   "execution_count": 2,
   "metadata": {
    "scrolled": true,
    "tags": []
   },
   "outputs": [],
   "source": [
    "#%run pacman.py -p PacmanDQN -n 10000 -x 5000 -l smallGrid -g RandomGhost -e RandomGhost --frameTime 0 -q"
   ]
  },
  {
   "cell_type": "code",
   "execution_count": 3,
   "metadata": {
    "scrolled": true,
    "tags": []
   },
   "outputs": [],
   "source": [
    "#%run pacman.py -p PacmanDQN -n 10000 -x 5000 -l smallGrid -g RandomGhost -e RandomGhostNS --frameTime 0 -q"
   ]
  },
  {
   "cell_type": "code",
   "execution_count": 4,
   "metadata": {
    "scrolled": true,
    "tags": []
   },
   "outputs": [],
   "source": [
    "#%run pacman.py -p PacmanDQN -n 10000 -x 5000 -l smallGrid -g RandomGhost -e RandomGhostEW --frameTime 0 -q"
   ]
  },
  {
   "cell_type": "code",
   "execution_count": 5,
   "metadata": {
    "scrolled": true,
    "tags": []
   },
   "outputs": [],
   "source": [
    "#%run pacman.py -p PacmanDQN -n 10000 -x 5000 -l smallGrid -g RandomGhostNS -e RandomGhostEW --frameTime 0 -q"
   ]
  },
  {
   "cell_type": "code",
   "execution_count": 6,
   "metadata": {
    "scrolled": true,
    "tags": []
   },
   "outputs": [],
   "source": [
    "#%run pacman.py -p PacmanDQN -n 10000 -x 5000 -l smallGrid -g RandomGhostNS -e RandomGhost --frameTime 0 -q"
   ]
  },
  {
   "cell_type": "code",
   "execution_count": 7,
   "metadata": {
    "scrolled": true,
    "tags": []
   },
   "outputs": [],
   "source": [
    "#%run pacman.py -p PacmanDQN -n 10000 -x 5000 -l smallGrid -g RandomGhostEW -e RandomGhost --frameTime 0 -q"
   ]
  },
  {
   "cell_type": "code",
   "execution_count": null,
   "metadata": {},
   "outputs": [],
   "source": []
  }
 ],
 "metadata": {
  "kernelspec": {
   "display_name": "Python 3 (ipykernel)",
   "language": "python",
   "name": "python3"
  },
  "language_info": {
   "codemirror_mode": {
    "name": "ipython",
    "version": 3
   },
   "file_extension": ".py",
   "mimetype": "text/x-python",
   "name": "python",
   "nbconvert_exporter": "python",
   "pygments_lexer": "ipython3",
   "version": "3.8.3"
  }
 },
 "nbformat": 4,
 "nbformat_minor": 4
}
